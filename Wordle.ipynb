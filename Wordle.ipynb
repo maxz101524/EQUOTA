{
 "cells": [
  {
   "cell_type": "code",
   "execution_count": 2,
   "metadata": {
    "tags": []
   },
   "outputs": [
    {
     "name": "stdout",
     "output_type": "stream",
     "text": [
      "Welcome to Wordle!, there are 5 letters in the word to guess, you have 5 turns left to guess the word\n",
      "_ _ _ _ _ Misplaced Words: ['e']\n",
      "Incorrect Words: ['p', 'n', 'i', 's']\n",
      "You have 4 turns left\n",
      "_ _ _ t _ Misplaced Words: ['e', 'e', 'a', 'r']\n",
      "Incorrect Words: ['p', 'n', 'i', 's', 'h']\n",
      "You have 3 turns left\n",
      "_ _ _ _ _ Misplaced Words: ['e', 'e', 'a', 'r', 'r', 'a', 't', 'e']\n",
      "Incorrect Words: ['p', 'n', 'i', 's', 'h', 's']\n",
      "You have 2 turns left\n",
      "_ _ _ t e Misplaced Words: ['e', 'a', 'r', 'r', 'a', 'e', 't', 'a']\n",
      "Incorrect Words: ['p', 'n', 'i', 's', 'h', 's', 's']\n",
      "You have 1 turns left\n",
      "_ r _ t e Misplaced Words: ['a', 'r', 'a', 'e', 'a', 'a', 'e']\n",
      "Incorrect Words: ['p', 'n', 'i', 's', 'h', 's', 's']\n",
      "You are out of guesses, the word was crate\n"
     ]
    }
   ],
   "source": [
    "import random\n",
    "import pandas as pd\n",
    "title = \"Wordle\"\n",
    "with open('words.txt', 'r') as file:\n",
    "    words_list = [line.strip().lower() for line in file.readlines()]\n",
    "word = random.choice(words_list)\n",
    "\n",
    "misplaced = []\n",
    "incorrect = []\n",
    "maxturns = 5\n",
    "currentturns = 0\n",
    "print(f\"Welcome to {title}!, there are 5 letters in the word to guess, \"\"you have\", maxturns - currentturns, \"turns left to guess the word\")\n",
    "\n",
    "while currentturns < maxturns:\n",
    "    guess = input(\"What's Your Guess?\").lower()\n",
    "    if not guess.isalpha():\n",
    "        print(\"Guess must be an alphabetic word\")\n",
    "        continue  \n",
    "    elif len(guess) != 5:\n",
    "        print(\"Guess must be a 5-letter word\")\n",
    "        continue\n",
    "    else:\n",
    "        index = 0\n",
    "        for i in guess:\n",
    "            if i == word[index]:\n",
    "                print(i, end=\" \")\n",
    "                if i in misplaced:\n",
    "                    misplaced.remove(i)\n",
    "            elif i in word:\n",
    "                misplaced.append(i)\n",
    "                print(\"_\", end =\" \")\n",
    "            elif i not in word:\n",
    "                incorrect.append(i)\n",
    "                print(\"_\", end=\" \")\n",
    "            index += 1        \n",
    "    print(f\"Misplaced Words: {misplaced}\")\n",
    "    print(f\"Incorrect Words: {incorrect}\")\n",
    "    currentturns += 1\n",
    "    if guess == word:\n",
    "        print(\"Congrats! You Won\")\n",
    "        break\n",
    "    elif currentturns == maxturns:\n",
    "        print(f\"You are out of guesses, the word was {word}\")\n",
    "        break\n",
    "    print(\"You have\", maxturns - currentturns, \"turns left\")\n",
    "    "
   ]
  },
  {
   "cell_type": "code",
   "execution_count": null,
   "metadata": {},
   "outputs": [],
   "source": []
  }
 ],
 "metadata": {
  "kernelspec": {
   "display_name": "Python 3 (ipykernel)",
   "language": "python",
   "name": "python3"
  },
  "language_info": {
   "codemirror_mode": {
    "name": "ipython",
    "version": 3
   },
   "file_extension": ".py",
   "mimetype": "text/x-python",
   "name": "python",
   "nbconvert_exporter": "python",
   "pygments_lexer": "ipython3",
   "version": "3.12.1"
  }
 },
 "nbformat": 4,
 "nbformat_minor": 4
}
